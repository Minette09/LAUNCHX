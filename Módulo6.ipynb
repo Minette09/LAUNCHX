{
 "cells": [
  {
   "cell_type": "code",
   "execution_count": 4,
   "metadata": {},
   "outputs": [
    {
     "name": "stdout",
     "output_type": "stream",
     "text": [
      "Hay 7 planetas\n"
     ]
    }
   ],
   "source": [
    "planets = ['Mercury', 'Venus', 'Earth', 'Mars', 'Jupiter', 'Saturn', 'Neptune']\n",
    "print('Hay', len(planets), 'planetas')"
   ]
  },
  {
   "cell_type": "code",
   "execution_count": 5,
   "metadata": {},
   "outputs": [
    {
     "name": "stdout",
     "output_type": "stream",
     "text": [
      "Hay otro planeta, se llama Plutón\n"
     ]
    }
   ],
   "source": [
    "planets.append('Plutón')\n",
    "print('Hay otro planeta, se llama', planets[-1])"
   ]
  },
  {
   "cell_type": "code",
   "execution_count": 9,
   "metadata": {},
   "outputs": [
    {
     "name": "stdout",
     "output_type": "stream",
     "text": [
      "Planetas cercanos a Saturn\n",
      "['Mercury', 'Venus', 'Earth', 'Mars', 'Jupiter']\n",
      "Planetas más lejanoes a Saturn\n",
      "Neptune\n"
     ]
    }
   ],
   "source": [
    "planets = ['Mercury', 'Venus', 'Earth', 'Mars', 'Jupiter', 'Saturn', 'Neptune']\n",
    "planeta = input('Introduce el nombre de un planeta colocando la primer letra con mayúscula')\n",
    "planet_index = planets.index(planeta)\n",
    "print('Planetas cercanos a ' + planeta)\n",
    "print(planets[0:planet_index])\n",
    "\n",
    "print('Planetas más lejanoes a ' + planeta)\n",
    "print(planets[planet_index + 1])"
   ]
  }
 ],
 "metadata": {
  "interpreter": {
   "hash": "970c4ee71cb014720afda774e218fdfc36f9d6f0ec311ac9ae92e3836cfe4114"
  },
  "kernelspec": {
   "display_name": "Python 3.10.2 64-bit",
   "language": "python",
   "name": "python3"
  },
  "language_info": {
   "codemirror_mode": {
    "name": "ipython",
    "version": 3
   },
   "file_extension": ".py",
   "mimetype": "text/x-python",
   "name": "python",
   "nbconvert_exporter": "python",
   "pygments_lexer": "ipython3",
   "version": "3.10.2"
  },
  "orig_nbformat": 4
 },
 "nbformat": 4,
 "nbformat_minor": 2
}
