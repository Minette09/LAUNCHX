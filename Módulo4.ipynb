{
 "cells": [
  {
   "cell_type": "code",
   "execution_count": 1,
   "metadata": {},
   "outputs": [
    {
     "name": "stdout",
     "output_type": "stream",
     "text": [
      "There are several interesting facts about the Moon an how it affects life here on Earth.\",\"\n",
      "On average, the Moon moves 4cm away from the Earth every year\n",
      "There are several interesting facts about the Moon an how it affects life here on Earth.\",\"\n",
      "On average, the Moon moves 4cm away from the Earth every year\n",
      "The highest daylight temperature of the Moon is 127 C.\n",
      "The highest daylight temperature of the Moon is 127 Celsius.\n"
     ]
    }
   ],
   "source": [
    "text= \"\"\"Interesting facts about the Moon. The Moon is Earth's only satellite. There are several interesting facts about the Moon an how it affects life here on Earth.\",\"\n",
    "On average, the Moon moves 4cm away from the Earth every year. This yearly drift is not significant enough to cause immediate effects on Earth. The highest daylight temperature of the Moon is 127 C.\"\"\"\n",
    "\n",
    "dividir_text = text.split('. ')\n",
    "dividir_text\n",
    "\n",
    "key_words = [\"average\", \"temperature\", \"distance\"]\n",
    "\n",
    "for ciclo_cadena in dividir_text:\n",
    "    for key_word in key_words:\n",
    "        if key_word in ciclo_cadena:\n",
    "            print(ciclo_cadena)\n",
    "    for key_word in key_words:\n",
    "        if key_word in ciclo_cadena:\n",
    "            print(ciclo_cadena.replace('C', 'Celsius'))\n",
    "            break"
   ]
  },
  {
   "cell_type": "code",
   "execution_count": 4,
   "metadata": {},
   "outputs": [
    {
     "name": "stdout",
     "output_type": "stream",
     "text": [
      "_________________________\n",
      "planeta: Earth\n",
      "gravedad en Moon : 1.6199999999999999 m/s2\n",
      "\n",
      "\n",
      "Datos acerca de la gravedad de: Ganímedes\n",
      "Planeta Marte\n",
      "Gravedad en Ganímedes: 0.00143 m/s2\n"
     ]
    }
   ],
   "source": [
    "name = \"Moon\"\n",
    "gravity = 0.00162 \n",
    "planet = \"Earth\"\n",
    "\n",
    "title = f'la gravedad en la {name}'\n",
    "\n",
    "datos = f\"\"\"{\"_\" * 25}\n",
    "planeta: {planet}\n",
    "gravedad en {name} : {gravity * 1000} m/s2\n",
    "\"\"\"\n",
    "\n",
    "plantilla = f\"\"\"{title.title()}\n",
    "{datos}\n",
    "\"\"\"\n",
    "\n",
    "planeta = 'Marte'\n",
    "gravedad = 0.00143\n",
    "nombre = 'Ganímedes'\n",
    "\n",
    "print (datos)\n",
    "\n",
    "new_template = \"\"\"\n",
    "Datos acerca de la gravedad de: {nombre}\n",
    "Planeta {planeta}\n",
    "Gravedad en {nombre}: {gravedad} m/s2\"\"\"\n",
    "\n",
    "print(new_template.format(nombre=nombre, planeta=planeta, gravedad=gravedad))\n"
   ]
  }
 ],
 "metadata": {
  "interpreter": {
   "hash": "970c4ee71cb014720afda774e218fdfc36f9d6f0ec311ac9ae92e3836cfe4114"
  },
  "kernelspec": {
   "display_name": "Python 3.10.2 64-bit",
   "language": "python",
   "name": "python3"
  },
  "language_info": {
   "codemirror_mode": {
    "name": "ipython",
    "version": 3
   },
   "file_extension": ".py",
   "mimetype": "text/x-python",
   "name": "python",
   "nbconvert_exporter": "python",
   "pygments_lexer": "ipython3",
   "version": "3.10.2"
  },
  "orig_nbformat": 4
 },
 "nbformat": 4,
 "nbformat_minor": 2
}
