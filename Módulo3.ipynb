{
 "cells": [
  {
   "cell_type": "code",
   "execution_count": 2,
   "metadata": {},
   "outputs": [
    {
     "name": "stdout",
     "output_type": "stream",
     "text": [
      "Peligro: Se acerca un asteroide a gran velocidad\n"
     ]
    }
   ],
   "source": [
    "velocidad_asteroide = 49\n",
    "if velocidad_asteroide > 25:\n",
    "    print('Peligro: Se acerca un asteroide a gran velocidad')\n",
    "else:\n",
    "    print('No hay asteroides peligrosos cerca')"
   ]
  },
  {
   "cell_type": "code",
   "execution_count": 3,
   "metadata": {},
   "outputs": [
    {
     "name": "stdout",
     "output_type": "stream",
     "text": [
      "Por el momento no hay luces especiales en el cielo\n"
     ]
    }
   ],
   "source": [
    "velocidad_asteroide = 19\n",
    "if velocidad_asteroide > 20:\n",
    "    print('Hay luces especiales en el cielo, búscalas')\n",
    "elif velocidad_asteroide == 20:\n",
    "    print('Hay luces especiales en el cielo')\n",
    "else:\n",
    "    print('Por el momento no hay luces especiales en el cielo')"
   ]
  },
  {
   "cell_type": "code",
   "execution_count": 4,
   "metadata": {},
   "outputs": [
    {
     "name": "stdout",
     "output_type": "stream",
     "text": [
      "Hay luces especiales en el cielo, búscalas\n"
     ]
    }
   ],
   "source": [
    "velocidad_asteroide = 25\n",
    "tamaño_asteroide = 25\n",
    "\n",
    "if velocidad_asteroide > 25 and tamaño_asteroide > 25:\n",
    "    print('Peligro: Se acerca un asteroide a gran velocidad')\n",
    "elif velocidad_asteroide >= 20:\n",
    "    print('Hay luces especiales en el cielo, búscalas')\n",
    "elif tamaño_asteroide < 25:\n",
    "    print('No hay asteroides peligrosos cerca')\n",
    "else:\n",
    "    print('No hay asteroides peligrosos cerca')"
   ]
  }
 ],
 "metadata": {
  "interpreter": {
   "hash": "970c4ee71cb014720afda774e218fdfc36f9d6f0ec311ac9ae92e3836cfe4114"
  },
  "kernelspec": {
   "display_name": "Python 3.10.2 64-bit",
   "language": "python",
   "name": "python3"
  },
  "language_info": {
   "codemirror_mode": {
    "name": "ipython",
    "version": 3
   },
   "file_extension": ".py",
   "mimetype": "text/x-python",
   "name": "python",
   "nbconvert_exporter": "python",
   "pygments_lexer": "ipython3",
   "version": "3.10.2"
  },
  "orig_nbformat": 4
 },
 "nbformat": 4,
 "nbformat_minor": 2
}
