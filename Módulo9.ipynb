{
 "cells": [
  {
   "cell_type": "code",
   "execution_count": 8,
   "metadata": {},
   "outputs": [
    {
     "name": "stdout",
     "output_type": "stream",
     "text": [
      "Fuel:\n",
      "    Promedio: 42.0%\n",
      "    Tanquesedán: 42%\n",
      "    Tanquepickup: 26%\n",
      "    TanqueMPV: 58%\n",
      "    \n",
      "Fuel:\n",
      "    Promedio 42.0%\n",
      "    Tanquesedán: 42\n",
      "    Tanquepickup: 26\n",
      "    Tanquempv: 58\n",
      "    \n"
     ]
    }
   ],
   "source": [
    "def reporte_tanques (tanquesedán, tanquepickup, tanquempv):\n",
    "    promedio = (tanquesedán + tanquepickup + tanquempv) / 3\n",
    "    return f\"\"\"Fuel:\n",
    "    Promedio: {promedio}%\n",
    "    Tanquesedán: {tanquesedán}%\n",
    "    Tanquepickup: {tanquepickup}%\n",
    "    TanqueMPV: {tanquempv}%\n",
    "    \"\"\"\n",
    "print(reporte_tanques(42, 26, 58))\n",
    "\n",
    "def promedio(valores):\n",
    "    total = sum(valores)\n",
    "    items = len(valores)\n",
    "    return total / items\n",
    "promedio([42, 26, 58])\n",
    "\n",
    "def reporte_tanques(tanquesedán, tanquepickup, tanquempv):\n",
    "    return f\"\"\"Fuel:\n",
    "    Promedio {promedio([tanquesedán, tanquepickup, tanquempv])}%\n",
    "    Tanquesedán: {tanquesedán}\n",
    "    Tanquepickup: {tanquepickup}\n",
    "    Tanquempv: {tanquempv}\n",
    "    \"\"\"\n",
    "print(reporte_tanques(42, 26, 58))    "
   ]
  },
  {
   "cell_type": "code",
   "execution_count": 9,
   "metadata": {},
   "outputs": [
    {
     "name": "stdout",
     "output_type": "stream",
     "text": [
      "\n",
      "    Destino Júpiter\n",
      "    Viaje 94 minutes\n",
      "    Fuel 901209 gal\n",
      "    \n"
     ]
    }
   ],
   "source": [
    "def reporte_mision(prelanzamiento, tiempo_de_vuelo, destino, tanque_externo, tanque_interno):\n",
    "    return f\"\"\"\n",
    "    Destino {destino}\n",
    "    Viaje {prelanzamiento + tiempo_de_vuelo} minutes\n",
    "    Fuel {tanque_externo + tanque_interno} gal\n",
    "    \"\"\"\n",
    "print(reporte_mision(58,36, \"Júpiter\", 741852,159357))"
   ]
  },
  {
   "cell_type": "code",
   "execution_count": 19,
   "metadata": {},
   "outputs": [
    {
     "name": "stdout",
     "output_type": "stream",
     "text": [
      "\n",
      "    Mision Júpiter\n",
      "    Viaje 418 minutos\n",
      "    Fuel 3783101\n",
      "    interno tanque --> 85691 litros restantes externo tanque --> 3697410 litros restantes \n"
     ]
    }
   ],
   "source": [
    "def reporte_mision (destino,*minutos, **disponible_fuel):\n",
    "    reporte = f\"\"\"\n",
    "    Mision {destino}\n",
    "    Viaje {sum(minutos)} minutos\n",
    "    Fuel {sum(disponible_fuel.values())}\n",
    "    \"\"\"\n",
    "    for reporte_tanques, litros in disponible_fuel.items():\n",
    "        reporte +=f\"{reporte_tanques} tanque --> {litros} litros restantes \"\n",
    "    return reporte\n",
    "print(reporte_mision(\"Júpiter\", 35, 298, 85, interno=85691, externo=3697410))"
   ]
  },
  {
   "cell_type": "code",
   "execution_count": null,
   "metadata": {},
   "outputs": [],
   "source": []
  }
 ],
 "metadata": {
  "interpreter": {
   "hash": "970c4ee71cb014720afda774e218fdfc36f9d6f0ec311ac9ae92e3836cfe4114"
  },
  "kernelspec": {
   "display_name": "Python 3.10.2 64-bit",
   "language": "python",
   "name": "python3"
  },
  "language_info": {
   "codemirror_mode": {
    "name": "ipython",
    "version": 3
   },
   "file_extension": ".py",
   "mimetype": "text/x-python",
   "name": "python",
   "nbconvert_exporter": "python",
   "pygments_lexer": "ipython3",
   "version": "3.10.2"
  },
  "orig_nbformat": 4
 },
 "nbformat": 4,
 "nbformat_minor": 2
}
