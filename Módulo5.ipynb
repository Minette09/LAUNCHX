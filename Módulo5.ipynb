{
 "cells": [
  {
   "cell_type": "code",
   "execution_count": 1,
   "metadata": {},
   "outputs": [
    {
     "name": "stdout",
     "output_type": "stream",
     "text": [
      "628949330\n",
      "390577533.93\n"
     ]
    }
   ],
   "source": [
    "primer_planeta = 149597870\n",
    "segundo_planeta = 778547200\n",
    "\n",
    "distancia = segundo_planeta - primer_planeta\n",
    "print(distancia)\n",
    "distancia_kilometros = distancia * 0.621\n",
    "print(distancia_kilometros)"
   ]
  },
  {
   "cell_type": "code",
   "execution_count": 4,
   "metadata": {},
   "outputs": [
    {
     "name": "stdout",
     "output_type": "stream",
     "text": [
      "500\n",
      "310.5\n"
     ]
    }
   ],
   "source": [
    "primer_planeta = input('Escribe la distancia (en kilómetros) al sol del primer planeta')\n",
    "segundo_planeta = input('Escribe la distancia (en kilómetros) al sol del segundo planeta')\n",
    "\n",
    "primer_planeta = int(primer_planeta)\n",
    "segundo_planeta = int(segundo_planeta)\n",
    "\n",
    "distancia = segundo_planeta - primer_planeta\n",
    "print(distancia)\n",
    "distancia_kilometros = distancia * 0.621\n",
    "print(distancia_kilometros)"
   ]
  }
 ],
 "metadata": {
  "interpreter": {
   "hash": "970c4ee71cb014720afda774e218fdfc36f9d6f0ec311ac9ae92e3836cfe4114"
  },
  "kernelspec": {
   "display_name": "Python 3.10.2 64-bit",
   "language": "python",
   "name": "python3"
  },
  "language_info": {
   "codemirror_mode": {
    "name": "ipython",
    "version": 3
   },
   "file_extension": ".py",
   "mimetype": "text/x-python",
   "name": "python",
   "nbconvert_exporter": "python",
   "pygments_lexer": "ipython3",
   "version": "3.10.2"
  },
  "orig_nbformat": 4
 },
 "nbformat": 4,
 "nbformat_minor": 2
}
